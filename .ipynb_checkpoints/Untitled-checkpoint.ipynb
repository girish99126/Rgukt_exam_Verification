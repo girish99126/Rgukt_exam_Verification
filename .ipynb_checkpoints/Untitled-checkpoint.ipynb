{
 "cells": [
  {
   "cell_type": "code",
   "execution_count": null,
   "id": "82ed62c6",
   "metadata": {},
   "outputs": [],
   "source": [
    "import camtest\n",
    "import detect\n",
    "import face_dataset\n",
    "import face_training\n",
    "import face_recognization\n",
    "\n",
    "\n",
    "camtest.one()\n",
    "detect.two()\n",
    "face_dataset.three()\n",
    "face_training.four()\n",
    "face_recognization.five()\n",
    "\n"
   ]
  }
 ],
 "metadata": {
  "kernelspec": {
   "display_name": "Python 3",
   "language": "python",
   "name": "python3"
  },
  "language_info": {
   "codemirror_mode": {
    "name": "ipython",
    "version": 3
   },
   "file_extension": ".py",
   "mimetype": "text/x-python",
   "name": "python",
   "nbconvert_exporter": "python",
   "pygments_lexer": "ipython3",
   "version": "3.9.5"
  }
 },
 "nbformat": 4,
 "nbformat_minor": 5
}
