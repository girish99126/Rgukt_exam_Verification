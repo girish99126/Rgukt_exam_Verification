{
 "cells": [
  {
   "cell_type": "code",
   "execution_count": null,
   "id": "6a7a198c",
   "metadata": {},
   "outputs": [
    {
     "name": "stdout",
     "output_type": "stream",
     "text": [
      "\n",
      " enter user id end press <return> ==>  1\n",
      "\n",
      " [INFO] Initializing face capture. Look the camera and wait ...\n",
      "\n",
      " [INFO] Exiting Program and cleanup stuff\n",
      "\n",
      " [INFO] Training faces. It will take a few seconds. Wait ...\n",
      "\n",
      " [INFO] 1 faces trained. Exiting Program\n"
     ]
    }
   ],
   "source": [
    "import camtest\n",
    "import detect\n",
    "import face_dataset\n",
    "import face_training\n",
    "import face_recognization\n",
    "\n",
    "\n",
    "camtest.one()\n",
    "detect.two()\n",
    "face_dataset.three()\n",
    "face_training.four()\n",
    "face_recognization.five()\n",
    "\n"
   ]
  },
  {
   "cell_type": "code",
   "execution_count": null,
   "id": "033ca56e",
   "metadata": {},
   "outputs": [],
   "source": []
  },
  {
   "cell_type": "code",
   "execution_count": null,
   "id": "e6c3ee20",
   "metadata": {},
   "outputs": [],
   "source": [
    "q"
   ]
  }
 ],
 "metadata": {
  "kernelspec": {
   "display_name": "Python 3",
   "language": "python",
   "name": "python3"
  },
  "language_info": {
   "codemirror_mode": {
    "name": "ipython",
    "version": 3
   },
   "file_extension": ".py",
   "mimetype": "text/x-python",
   "name": "python",
   "nbconvert_exporter": "python",
   "pygments_lexer": "ipython3",
   "version": "3.9.5"
  }
 },
 "nbformat": 4,
 "nbformat_minor": 5
}
